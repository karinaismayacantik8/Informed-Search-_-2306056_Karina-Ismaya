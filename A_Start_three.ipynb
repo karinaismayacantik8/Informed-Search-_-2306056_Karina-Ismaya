{
  "nbformat": 4,
  "nbformat_minor": 0,
  "metadata": {
    "colab": {
      "provenance": [],
      "authorship_tag": "ABX9TyMIK/6z6/QNke6GnGtxZ4/d",
      "include_colab_link": true
    },
    "kernelspec": {
      "name": "python3",
      "display_name": "Python 3"
    },
    "language_info": {
      "name": "python"
    }
  },
  "cells": [
    {
      "cell_type": "markdown",
      "metadata": {
        "id": "view-in-github",
        "colab_type": "text"
      },
      "source": [
        "<a href=\"https://colab.research.google.com/github/karinaismayacantik8/Informed-Search-_-2306056_Karina-Ismaya/blob/main/A_Start_three.ipynb\" target=\"_parent\"><img src=\"https://colab.research.google.com/assets/colab-badge.svg\" alt=\"Open In Colab\"/></a>"
      ]
    },
    {
      "cell_type": "code",
      "execution_count": null,
      "metadata": {
        "colab": {
          "base_uri": "https://localhost:8080/"
        },
        "id": "RBOY5RhUAeVY",
        "outputId": "18479b2b-187e-4a14-b09e-02fe48a90418"
      },
      "outputs": [
        {
          "output_type": "stream",
          "name": "stdout",
          "text": [
            "\n",
            "Simpul tujuan ditemukan!\n",
            "Jalur yang ditemukan: S → B → D → G\n",
            "Total biaya jalur: 10\n"
          ]
        },
        {
          "output_type": "execute_result",
          "data": {
            "text/plain": [
              "(['S', 'B', 'D', 'G'], 10)"
            ]
          },
          "metadata": {},
          "execution_count": 1
        }
      ],
      "source": [
        "from queue import PriorityQueue\n",
        "\n",
        "# Fungsi untuk algoritma A* Star Tree\n",
        "def a_star_graph_search(graph, start, goal, heuristic):\n",
        "    frontier = PriorityQueue()  # Antrian prioritas berdasarkan f(n) = g(n) + h(n)\n",
        "    frontier.put((0, start, []))  # (total_cost, node, path)\n",
        "    explored = set()  # Set untuk menyimpan simpul yang sudah dieksplorasi\n",
        "\n",
        "    while not frontier.empty():\n",
        "        current_cost, current_node, path = frontier.get()  # Ambil simpul dengan prioritas terendah\n",
        "\n",
        "        if current_node in explored:\n",
        "            continue\n",
        "\n",
        "        path = path + [current_node]\n",
        "        explored.add(current_node)  # Tandai simpul sebagai telah dieksplorasi\n",
        "\n",
        "        if current_node == goal:\n",
        "            print(\"\\nSimpul tujuan ditemukan!\")\n",
        "            print(\"Jalur yang ditemukan:\", \" → \".join(path))\n",
        "            print(\"Total biaya jalur:\", current_cost)\n",
        "            return path, current_cost\n",
        "\n",
        "        for neighbor, cost in graph[current_node].items():\n",
        "            if neighbor not in explored:\n",
        "                total_cost = current_cost + cost + heuristic[neighbor]  # g(n) + h(n)\n",
        "                frontier.put((total_cost, neighbor, path))  # Masukkan simpul ke frontier\n",
        "\n",
        "    print(\"\\nSimpul tujuan tidak ditemukan!\")\n",
        "    return None, float(\"inf\")  # Jika simpul tujuan tidak ditemukan\n",
        "\n",
        "# Daftar heuristik untuk setiap simpul\n",
        "heuristic = {\n",
        "    'S': 6,\n",
        "    'A': 4,\n",
        "    'B': 3,\n",
        "    'C': 3,\n",
        "    'D': 1,\n",
        "    'G': 0 # Simpul tujuan memiliki nilai heuristik 0\n",
        "}\n",
        "\n",
        "# Graf berbobot dalam bentuk adjacency list\n",
        "graph = {\n",
        "    'S': {'A': 3, 'B': 2},\n",
        "    'A': {'B': 1, 'D': 5},\n",
        "    'B': {'C': 2, 'D': 3},\n",
        "    'C': {'G': 4},\n",
        "    'D': {'G': 1}\n",
        "}\n",
        "\n",
        "# Titik awal dan tujuan\n",
        "start_node = 'S'\n",
        "goal_node = 'G'\n",
        "\n",
        "# Panggil fungsi A* Graph Search\n",
        "a_star_graph_search(graph, start_node, goal_node, heuristic)"
      ]
    }
  ]
}